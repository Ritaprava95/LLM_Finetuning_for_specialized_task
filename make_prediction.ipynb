{
 "cells": [
  {
   "cell_type": "markdown",
   "id": "b021f53a-08db-4d5b-868a-083d5f5debe0",
   "metadata": {},
   "source": [
    "## We can load he finetuned model and make predictions."
   ]
  },
  {
   "cell_type": "code",
   "execution_count": null,
   "id": "34010a4c-937a-474f-ac91-504dbdc68b84",
   "metadata": {},
   "outputs": [],
   "source": []
  }
 ],
 "metadata": {
  "kernelspec": {
   "display_name": "Python 3 (ipykernel)",
   "language": "python",
   "name": "python3"
  },
  "language_info": {
   "codemirror_mode": {
    "name": "ipython",
    "version": 3
   },
   "file_extension": ".py",
   "mimetype": "text/x-python",
   "name": "python",
   "nbconvert_exporter": "python",
   "pygments_lexer": "ipython3",
   "version": "3.11.9"
  }
 },
 "nbformat": 4,
 "nbformat_minor": 5
}
